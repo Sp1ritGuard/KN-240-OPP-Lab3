{
 "cells": [
  {
   "cell_type": "markdown",
   "metadata": {},
   "source": [
    "### Клас Меча для прикладу взаємодії між обєктами"
   ]
  },
  {
   "cell_type": "code",
   "execution_count": null,
   "metadata": {},
   "outputs": [],
   "source": [
    "from random import randint\n",
    "\n",
    "class Item:\n",
    "    def __init__(self, name:str, damage:int, health:int=500):\n",
    "        self.name = name\n",
    "        self.damage = damage\n",
    "        self.health = health\n",
    "\n",
    "class Sword(Item):\n",
    "    def __init__(self, name, damage):\n",
    "        super().__init__(name, damage)\n",
    "        self.sharpening = 0\n",
    "    \n",
    "    @property\n",
    "    def full_damage(self):\n",
    "        return self.damage + self.sharpening\n",
    "    \n",
    "    def buff(self):\n",
    "        \"\"\"Баф Берсерка, збільшує дамаг коли ми маємо менше здоровя\n",
    "        \"\"\"\n",
    "        max_damage = round((500 - self.health) / 50)\n",
    "        self.sharpening = randint(0, max_damage)\n",
    "\n",
    "\n",
    "    def hit(self, obj:Item):\n",
    "        print(f\"Завдаємо урад {self.name} по {obj.name}\")\n",
    "        obj.health -= self.full_damage\n",
    "        if obj.health <= 0:\n",
    "            print(f\"Ми повністю знести здоровя {obj.name} до {obj.health}\")\n",
    "            return True\n",
    "        print(f\"Після нашого удару у {obj.name} залишилось {obj.health} здоровя\")\n",
    "        return False\n",
    "\n",
    "class Staff(Item):\n",
    "    def __init__(self, name, damage):\n",
    "        super().__init__(name, damage)\n",
    "        self.magical_damage = 0\n",
    "    \n",
    "    @property\n",
    "    def full_damage(self):\n",
    "        return self.damage + self.magical_damage\n",
    "\n",
    "    def hit(self, obj:Item):\n",
    "        print(f\"Завдаємо урад {self.name} по {obj.name}\")\n",
    "        obj.health -= self.full_damage\n",
    "        if obj.health <= 0:\n",
    "            print(f\"Ми повністю знести здоровя {obj.name} до {obj.health}\")\n",
    "            return True\n",
    "        print(f\"Після нашого удару у {obj.name} залишилось {obj.health} здоровя\")\n",
    "        return False\n",
    "    \n",
    "    def buff(self):\n",
    "        \"\"\"Баф Вогняного дихання, збільшує магічний дамаг\n",
    "        \"\"\"\n",
    "        self.magical_damage = randint(0, 10)"
   ]
  },
  {
   "cell_type": "code",
   "execution_count": 13,
   "metadata": {},
   "outputs": [
    {
     "name": "stdout",
     "output_type": "stream",
     "text": [
      "Раунд: 0\n",
      "Завдаємо урад Біфрост по Екскалібур\n",
      "Після нашого удару у Екскалібур залишилось 421 здоровя\n",
      "Завдаємо урад Екскалібур по Біфрост\n",
      "Після нашого удару у Біфрост залишилось 425 здоровя\n",
      "Раунд: 1\n",
      "Завдаємо урад Біфрост по Екскалібур\n",
      "Після нашого удару у Екскалібур залишилось 340 здоровя\n",
      "Завдаємо урад Екскалібур по Біфрост\n",
      "Після нашого удару у Біфрост залишилось 350 здоровя\n",
      "Раунд: 2\n",
      "Завдаємо урад Біфрост по Екскалібур\n",
      "Після нашого удару у Екскалібур залишилось 260 здоровя\n",
      "Завдаємо урад Екскалібур по Біфрост\n",
      "Після нашого удару у Біфрост залишилось 274 здоровя\n",
      "Раунд: 3\n",
      "Завдаємо урад Екскалібур по Біфрост\n",
      "Після нашого удару у Біфрост залишилось 194 здоровя\n",
      "Завдаємо урад Біфрост по Екскалібур\n",
      "Після нашого удару у Екскалібур залишилось 176 здоровя\n",
      "Раунд: 4\n",
      "Завдаємо урад Біфрост по Екскалібур\n",
      "Після нашого удару у Екскалібур залишилось 98 здоровя\n",
      "Завдаємо урад Екскалібур по Біфрост\n",
      "Після нашого удару у Біфрост залишилось 119 здоровя\n",
      "Раунд: 5\n",
      "Завдаємо урад Біфрост по Екскалібур\n",
      "Після нашого удару у Екскалібур залишилось 17 здоровя\n",
      "Завдаємо урад Екскалібур по Біфрост\n",
      "Після нашого удару у Біфрост залишилось 40 здоровя\n",
      "Раунд: 6\n",
      "Завдаємо урад Біфрост по Екскалібур\n",
      "Ми повністю знести здоровя Екскалібур до -66\n",
      "Біфрост Виграв\n"
     ]
    }
   ],
   "source": [
    "from random import shuffle\n",
    "\n",
    "s = Sword(\"Екскалібур\", 75)\n",
    "f = Staff(\"Біфрост\", 74)\n",
    "\n",
    "i = [s, f]\n",
    "\n",
    "for r in range(10):\n",
    "    print(f\"Раунд: {r}\")\n",
    "    shuffle(i)\n",
    "    i[0].buff()\n",
    "    i[1].buff()\n",
    "\n",
    "    if i[0].hit(i[1]):\n",
    "        print(f\"{i[0].name} Виграв\")\n",
    "        break\n",
    "    if i[1].hit(i[0]):\n",
    "        print(f\"{i[1].name} Виграв\")\n",
    "        break\n",
    "    "
   ]
  },
  {
   "cell_type": "code",
   "execution_count": null,
   "metadata": {},
   "outputs": [],
   "source": []
  },
  {
   "cell_type": "code",
   "execution_count": null,
   "metadata": {},
   "outputs": [],
   "source": []
  }
 ],
 "metadata": {
  "kernelspec": {
   "display_name": "Python 3",
   "language": "python",
   "name": "python3"
  },
  "language_info": {
   "codemirror_mode": {
    "name": "ipython",
    "version": 3
   },
   "file_extension": ".py",
   "mimetype": "text/x-python",
   "name": "python",
   "nbconvert_exporter": "python",
   "pygments_lexer": "ipython3",
   "version": "3.12.3"
  }
 },
 "nbformat": 4,
 "nbformat_minor": 2
}
